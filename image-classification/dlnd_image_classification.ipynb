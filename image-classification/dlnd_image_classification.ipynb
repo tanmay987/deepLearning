{
 "cells": [
  {
   "cell_type": "markdown",
   "metadata": {
    "collapsed": true,
    "deletable": true,
    "editable": true
   },
   "source": [
    "# Image Classification\n",
    "In this project, you'll classify images from the [CIFAR-10 dataset](https://www.cs.toronto.edu/~kriz/cifar.html).  The dataset consists of airplanes, dogs, cats, and other objects. You'll preprocess the images, then train a convolutional neural network on all the samples. The images need to be normalized and the labels need to be one-hot encoded.  You'll get to apply what you learned and build a convolutional, max pooling, dropout, and fully connected layers.  At the end, you'll get to see your neural network's predictions on the sample images.\n",
    "## Get the Data\n",
    "Run the following cell to download the [CIFAR-10 dataset for python](https://www.cs.toronto.edu/~kriz/cifar-10-python.tar.gz)."
   ]
  },
  {
   "cell_type": "code",
   "execution_count": 2,
   "metadata": {
    "collapsed": false,
    "deletable": true,
    "editable": true
   },
   "outputs": [
    {
     "name": "stdout",
     "output_type": "stream",
     "text": [
      "All files found!\n"
     ]
    }
   ],
   "source": [
    "\"\"\"\n",
    "DON'T MODIFY ANYTHING IN THIS CELL THAT IS BELOW THIS LINE\n",
    "\"\"\"\n",
    "from urllib.request import urlretrieve\n",
    "from os.path import isfile, isdir\n",
    "from tqdm import tqdm\n",
    "import problem_unittests as tests\n",
    "import tarfile\n",
    "\n",
    "cifar10_dataset_folder_path = 'cifar-10-batches-py'\n",
    "\n",
    "# Use Floyd's cifar-10 dataset if present\n",
    "floyd_cifar10_location = '/input/cifar-10/python.tar.gz'\n",
    "if isfile(floyd_cifar10_location):\n",
    "    tar_gz_path = floyd_cifar10_location\n",
    "else:\n",
    "    tar_gz_path = 'cifar-10-python.tar.gz'\n",
    "\n",
    "class DLProgress(tqdm):\n",
    "    last_block = 0\n",
    "\n",
    "    def hook(self, block_num=1, block_size=1, total_size=None):\n",
    "        self.total = total_size\n",
    "        self.update((block_num - self.last_block) * block_size)\n",
    "        self.last_block = block_num\n",
    "\n",
    "if not isfile(tar_gz_path):\n",
    "    with DLProgress(unit='B', unit_scale=True, miniters=1, desc='CIFAR-10 Dataset') as pbar:\n",
    "        urlretrieve(\n",
    "            'https://www.cs.toronto.edu/~kriz/cifar-10-python.tar.gz',\n",
    "            tar_gz_path,\n",
    "            pbar.hook)\n",
    "\n",
    "if not isdir(cifar10_dataset_folder_path):\n",
    "    with tarfile.open(tar_gz_path) as tar:\n",
    "        tar.extractall()\n",
    "        tar.close()\n",
    "\n",
    "\n",
    "tests.test_folder_path(cifar10_dataset_folder_path)"
   ]
  },
  {
   "cell_type": "markdown",
   "metadata": {
    "deletable": true,
    "editable": true
   },
   "source": [
    "## Explore the Data\n",
    "The dataset is broken into batches to prevent your machine from running out of memory.  The CIFAR-10 dataset consists of 5 batches, named `data_batch_1`, `data_batch_2`, etc.. Each batch contains the labels and images that are one of the following:\n",
    "* airplane\n",
    "* automobile\n",
    "* bird\n",
    "* cat\n",
    "* deer\n",
    "* dog\n",
    "* frog\n",
    "* horse\n",
    "* ship\n",
    "* truck\n",
    "\n",
    "Understanding a dataset is part of making predictions on the data.  Play around with the code cell below by changing the `batch_id` and `sample_id`. The `batch_id` is the id for a batch (1-5). The `sample_id` is the id for a image and label pair in the batch.\n",
    "\n",
    "Ask yourself \"What are all possible labels?\", \"What is the range of values for the image data?\", \"Are the labels in order or random?\".  Answers to questions like these will help you preprocess the data and end up with better predictions."
   ]
  },
  {
   "cell_type": "code",
   "execution_count": 3,
   "metadata": {
    "collapsed": false,
    "deletable": true,
    "editable": true
   },
   "outputs": [
    {
     "name": "stdout",
     "output_type": "stream",
     "text": [
      "\n",
      "Stats of batch 2:\n",
      "Samples: 10000\n",
      "Label Counts: {0: 984, 1: 1007, 2: 1010, 3: 995, 4: 1010, 5: 988, 6: 1008, 7: 1026, 8: 987, 9: 985}\n",
      "First 20 Labels: [1, 6, 6, 8, 8, 3, 4, 6, 0, 6, 0, 3, 6, 6, 5, 4, 8, 3, 2, 6]\n",
      "\n",
      "Example of Image 6:\n",
      "Image - Min Value: 0 Max Value: 235\n",
      "Image - Shape: (32, 32, 3)\n",
      "Label - Label Id: 4 Name: deer\n"
     ]
    },
    {
     "data": {
      "image/png": "[encoded data removed]",
      "text/plain": [
       "<matplotlib.figure.Figure at 0x7f6ab8162d30>"
      ]
     },
     "metadata": {
      "image/png": {
       "height": 250,
       "width": 253
      }
     },
     "output_type": "display_data"
    }
   ],
   "source": [
    "%matplotlib inline\n",
    "%config InlineBackend.figure_format = 'retina'\n",
    "\n",
    "import helper\n",
    "import numpy as np\n",
    "\n",
    "# Explore the dataset\n",
    "batch_id = 2\n",
    "sample_id = 6\n",
    "helper.display_stats(cifar10_dataset_folder_path, batch_id, sample_id)"
   ]
  },
  {
   "cell_type": "markdown",
   "metadata": {
    "deletable": true,
    "editable": true
   },
   "source": [
    "## Implement Preprocess Functions\n",
    "### Normalize\n",
    "In the cell below, implement the `normalize` function to take in image data, `x`, and return it as a normalized Numpy array. The values should be in the range of 0 to 1, inclusive.  The return object should be the same shape as `x`."
   ]
  },
  {
   "cell_type": "code",
   "execution_count": 4,
   "metadata": {
    "collapsed": false,
    "deletable": true,
    "editable": true
   },
   "outputs": [
    {
     "name": "stdout",
     "output_type": "stream",
     "text": [
      "Tests Passed\n"
     ]
    }
   ],
   "source": [
    "def normalize(x):\n",
    "    \"\"\"\n",
    "    Normalize a list of sample image data in the range of 0 to 1\n",
    "    : x: List of image data.  The image shape is (32, 32, 3)\n",
    "    : return: Numpy array of normalize data\n",
    "    \"\"\"\n",
    "    # TODO: Implement Function\n",
    "    \n",
    "    return x/255\n",
    "\n",
    "\n",
    "\"\"\"\n",
    "DON'T MODIFY ANYTHING IN THIS CELL THAT IS BELOW THIS LINE\n",
    "\"\"\"\n",
    "tests.test_normalize(normalize)"
   ]
  },
  {
   "cell_type": "markdown",
   "metadata": {
    "deletable": true,
    "editable": true
   },
   "source": [
    "### One-hot encode\n",
    "Just like the previous code cell, you'll be implementing a function for preprocessing.  This time, you'll implement the `one_hot_encode` function. The input, `x`, are a list of labels.  Implement the function to return the list of labels as One-Hot encoded Numpy array.  The possible values for labels are 0 to 9. The one-hot encoding function should return the same encoding for each value between each call to `one_hot_encode`.  Make sure to save the map of encodings outside the function.\n",
    "\n",
    "Hint: Don't reinvent the wheel."
   ]
  },
  {
   "cell_type": "code",
   "execution_count": 5,
   "metadata": {
    "collapsed": false,
    "deletable": true,
    "editable": true
   },
   "outputs": [
    {
     "name": "stdout",
     "output_type": "stream",
     "text": [
      "Tests Passed\n"
     ]
    }
   ],
   "source": [
    "def one_hot_encode(x):\n",
    "    \"\"\"\n",
    "    One hot encode a list of sample labels. Return a one-hot encoded vector for each label.\n",
    "    : x: List of sample Labels\n",
    "    : return: Numpy array of one-hot encoded labels\n",
    "    \"\"\"\n",
    "    for i,label in enumerate(x):\n",
    "        A=np.zeros(10)\n",
    "        A[label]=1\n",
    "        if(i==0):\n",
    "            oneHotEncode=A\n",
    "        else:\n",
    "            oneHotEncode=np.vstack([oneHotEncode,A])\n",
    "    return oneHotEncode\n",
    "\n",
    "\n",
    "\"\"\"\n",
    "DON'T MODIFY ANYTHING IN THIS CELL THAT IS BELOW THIS LINE\n",
    "\"\"\"\n",
    "tests.test_one_hot_encode(one_hot_encode)\n"
   ]
  },
  {
   "cell_type": "markdown",
   "metadata": {
    "deletable": true,
    "editable": true
   },
   "source": [
    "### Randomize Data\n",
    "As you saw from exploring the data above, the order of the samples are randomized.  It doesn't hurt to randomize it again, but you don't need to for this dataset."
   ]
  },
  {
   "cell_type": "markdown",
   "metadata": {
    "deletable": true,
    "editable": true
   },
   "source": [
    "## Preprocess all the data and save it\n",
    "Running the code cell below will preprocess all the CIFAR-10 data and save it to file. The code below also uses 10% of the training data for validation."
   ]
  },
  {
   "cell_type": "code",
   "execution_count": 6,
   "metadata": {
    "collapsed": false,
    "deletable": true,
    "editable": true
   },
   "outputs": [],
   "source": [
    "\"\"\"\n",
    "DON'T MODIFY ANYTHING IN THIS CELL\n",
    "\"\"\"\n",
    "# Preprocess Training, Validation, and Testing Data\n",
    "helper.preprocess_and_save_data(cifar10_dataset_folder_path, normalize, one_hot_encode)"
   ]
  },
  {
   "cell_type": "markdown",
   "metadata": {
    "deletable": true,
    "editable": true
   },
   "source": [
    "# Check Point\n",
    "This is your first checkpoint.  If you ever decide to come back to this notebook or have to restart the notebook, you can start from here.  The preprocessed data has been saved to disk."
   ]
  },
  {
   "cell_type": "code",
   "execution_count": 1,
   "metadata": {
    "collapsed": false,
    "deletable": true,
    "editable": true
   },
   "outputs": [
    {
     "data": {
      "text/plain": [
       "(5000, 10)"
      ]
     },
     "execution_count": 1,
     "metadata": {},
     "output_type": "execute_result"
    }
   ],
   "source": [
    "\"\"\"\n",
    "DON'T MODIFY ANYTHING IN THIS CELL\n",
    "\"\"\"\n",
    "import pickle\n",
    "import problem_unittests as tests\n",
    "import helper\n",
    "\n",
    "# Load the Preprocessed Validation data\n",
    "valid_features, valid_labels = pickle.load(open('preprocess_validation.p', mode='rb'))\n",
    "(valid_labels.shape\n",
    ")"
   ]
  },
  {
   "cell_type": "markdown",
   "metadata": {
    "deletable": true,
    "editable": true
   },
   "source": [
    "## Build the network\n",
    "For the neural network, you'll build each layer into a function.  Most of the code you've seen has been outside of functions. To test your code more thoroughly, we require that you put each layer in a function.  This allows us to give you better feedback and test for simple mistakes using our unittests before you submit your project.\n",
    "\n",
    ">**Note:** If you're finding it hard to dedicate enough time for this course each week, we've provided a small shortcut to this part of the project. In the next couple of problems, you'll have the option to use classes from the [TensorFlow Layers](https://www.tensorflow.org/api_docs/python/tf/layers) or [TensorFlow Layers (contrib)](https://www.tensorflow.org/api_guides/python/contrib.layers) packages to build each layer, except the layers you build in the \"Convolutional and Max Pooling Layer\" section.  TF Layers is similar to Keras's and TFLearn's abstraction to layers, so it's easy to pickup.\n",
    "\n",
    ">However, if you would like to get the most out of this course, try to solve all the problems _without_ using anything from the TF Layers packages. You **can** still use classes from other packages that happen to have the same name as ones you find in TF Layers! For example, instead of using the TF Layers version of the `conv2d` class, [tf.layers.conv2d](https://www.tensorflow.org/api_docs/python/tf/layers/conv2d), you would want to use the TF Neural Network version of `conv2d`, [tf.nn.conv2d](https://www.tensorflow.org/api_docs/python/tf/nn/conv2d). \n",
    "\n",
    "Let's begin!\n",
    "\n",
    "### Input\n",
    "The neural network needs to read the image data, one-hot encoded labels, and dropout keep probability. Implement the following functions\n",
    "* Implement `neural_net_image_input`\n",
    " * Return a [TF Placeholder](https://www.tensorflow.org/api_docs/python/tf/placeholder)\n",
    " * Set the shape using `image_shape` with batch size set to `None`.\n",
    " * Name the TensorFlow placeholder \"x\" using the TensorFlow `name` parameter in the [TF Placeholder](https://www.tensorflow.org/api_docs/python/tf/placeholder).\n",
    "* Implement `neural_net_label_input`\n",
    " * Return a [TF Placeholder](https://www.tensorflow.org/api_docs/python/tf/placeholder)\n",
    " * Set the shape using `n_classes` with batch size set to `None`.\n",
    " * Name the TensorFlow placeholder \"y\" using the TensorFlow `name` parameter in the [TF Placeholder](https://www.tensorflow.org/api_docs/python/tf/placeholder).\n",
    "* Implement `neural_net_keep_prob_input`\n",
    " * Return a [TF Placeholder](https://www.tensorflow.org/api_docs/python/tf/placeholder) for dropout keep probability.\n",
    " * Name the TensorFlow placeholder \"keep_prob\" using the TensorFlow `name` parameter in the [TF Placeholder](https://www.tensorflow.org/api_docs/python/tf/placeholder).\n",
    "\n",
    "These names will be used at the end of the project to load your saved model.\n",
    "\n",
    "Note: `None` for shapes in TensorFlow allow for a dynamic size."
   ]
  },
  {
   "cell_type": "code",
   "execution_count": 2,
   "metadata": {
    "collapsed": false,
    "deletable": true,
    "editable": true
   },
   "outputs": [
    {
     "name": "stdout",
     "output_type": "stream",
     "text": [
      "Image Input Tests Passed.\n",
      "Label Input Tests Passed.\n",
      "Keep Prob Tests Passed.\n"
     ]
    }
   ],
   "source": [
    "import tensorflow as tf\n",
    "\n",
    "def neural_net_image_input(image_shape):\n",
    "    \"\"\"\n",
    "    Return a Tensor for a batch of image input\n",
    "    : image_shape: Shape of the images\n",
    "    : return: Tensor for image input.\n",
    "    \"\"\"\n",
    "    # TODO: Implement Function\n",
    "    return tf.placeholder(tf.float32,shape=(None,*image_shape),name='x')\n",
    "\n",
    "\n",
    "def neural_net_label_input(n_classes):\n",
    "    \"\"\"\n",
    "    Return a Tensor for a batch of label input\n",
    "    : n_classes: Number of classes\n",
    "    : return: Tensor for label input.\n",
    "    \"\"\"\n",
    "    # TODO: Implement Function\n",
    "    return tf.placeholder(tf.float32,shape=(None,n_classes),name='y')\n",
    "\n",
    "\n",
    "def neural_net_keep_prob_input():\n",
    "    \"\"\"\n",
    "    Return a Tensor for keep probability\n",
    "    : return: Tensor for keep probability.\n",
    "    \"\"\"\n",
    "    # TODO: Implement Function\n",
    "    return tf.placeholder(tf.float32,name='keep_prob')\n",
    "\n",
    "\n",
    "\"\"\"\n",
    "DON'T MODIFY ANYTHING IN THIS CELL THAT IS BELOW THIS LINE\n",
    "\"\"\"\n",
    "tf.reset_default_graph()\n",
    "tests.test_nn_image_inputs(neural_net_image_input)\n",
    "tests.test_nn_label_inputs(neural_net_label_input)\n",
    "tests.test_nn_keep_prob_inputs(neural_net_keep_prob_input)"
   ]
  },
  {
   "cell_type": "markdown",
   "metadata": {
    "deletable": true,
    "editable": true
   },
   "source": [
    "### Convolution and Max Pooling Layer\n",
    "Convolution layers have a lot of success with images. For this code cell, you should implement the function `conv2d_maxpool` to apply convolution then max pooling:\n",
    "* Create the weight and bias using `conv_ksize`, `conv_num_outputs` and the shape of `x_tensor`.\n",
    "* Apply a convolution to `x_tensor` using weight and `conv_strides`.\n",
    " * We recommend you use same padding, but you're welcome to use any padding.\n",
    "* Add bias\n",
    "* Add a nonlinear activation to the convolution.\n",
    "* Apply Max Pooling using `pool_ksize` and `pool_strides`.\n",
    " * We recommend you use same padding, but you're welcome to use any padding.\n",
    "\n",
    "**Note:** You **can't** use [TensorFlow Layers](https://www.tensorflow.org/api_docs/python/tf/layers) or [TensorFlow Layers (contrib)](https://www.tensorflow.org/api_guides/python/contrib.layers) for **this** layer, but you can still use TensorFlow's [Neural Network](https://www.tensorflow.org/api_docs/python/tf/nn) package. You may still use the shortcut option for all the **other** layers."
   ]
  },
  {
   "cell_type": "code",
   "execution_count": 3,
   "metadata": {
    "collapsed": false,
    "deletable": true,
    "editable": true
   },
   "outputs": [
    {
     "name": "stdout",
     "output_type": "stream",
     "text": [
      "Tests Passed\n"
     ]
    }
   ],
   "source": [
    "MEAN_INIT = 0.001\n",
    "STDDEV_INIT = 0.05\n",
    "def conv2d_maxpool(x_tensor, conv_num_outputs, conv_ksize, conv_strides, pool_ksize, pool_strides):\n",
    "    \"\"\"\n",
    "    Apply convolution then max pooling to x_tensor\n",
    "    :param x_tensor: TensorFlow Tensor\n",
    "    :param conv_num_outputs: Number of outputs for the convolutional layer\n",
    "    :param conv_ksize: kernal size 2-D Tuple for the convolutional layer\n",
    "    :param conv_strides: Stride 2-D Tuple for convolution\n",
    "    :param pool_ksize: kernal size 2-D Tuple for pool\n",
    "    :param pool_strides: Stride 2-D Tuple for pool\n",
    "    : return: A tensor that represents convolution and max pooling of x_tensor\n",
    "    \"\"\"\n",
    "    \n",
    "    \n",
    "    weights=tf.Variable(tf.truncated_normal(mean=MEAN_INIT, stddev=STDDEV_INIT, shape=[*conv_ksize,int(x_tensor.shape[3]),conv_num_outputs]))\n",
    "    #bias=tf.Variable(tf.zeros(conv_num_outputs))\n",
    "    bias = tf.Variable(tf.truncated_normal(mean=MEAN_INIT, stddev=STDDEV_INIT, shape=[conv_num_outputs]))\n",
    "    x= tf.nn.conv2d(x_tensor,weights,[1,*conv_strides,1],padding='SAME')\n",
    "    x=tf.nn.bias_add(x,bias)\n",
    "    x=tf.nn.relu(x)\n",
    "    x=tf.nn.max_pool(x,[1,*pool_ksize,1],[1,*pool_strides,1], padding='SAME')\n",
    "    # TODO: Implement Function\n",
    "    \n",
    "    return x\n",
    "\n",
    "\n",
    "\"\"\"\n",
    "DON'T MODIFY ANYTHING IN THIS CELL THAT IS BELOW THIS LINE\n",
    "\"\"\"\n",
    "tests.test_con_pool(conv2d_maxpool)"
   ]
  },
  {
   "cell_type": "markdown",
   "metadata": {
    "deletable": true,
    "editable": true
   },
   "source": [
    "### Flatten Layer\n",
    "Implement the `flatten` function to change the dimension of `x_tensor` from a 4-D tensor to a 2-D tensor.  The output should be the shape (*Batch Size*, *Flattened Image Size*). Shortcut option: you can use classes from the [TensorFlow Layers](https://www.tensorflow.org/api_docs/python/tf/layers) or [TensorFlow Layers (contrib)](https://www.tensorflow.org/api_guides/python/contrib.layers) packages for this layer. For more of a challenge, only use other TensorFlow packages."
   ]
  },
  {
   "cell_type": "code",
   "execution_count": 4,
   "metadata": {
    "collapsed": false,
    "deletable": true,
    "editable": true
   },
   "outputs": [
    {
     "name": "stdout",
     "output_type": "stream",
     "text": [
      "Tests Passed\n"
     ]
    }
   ],
   "source": [
    "def flatten(x_tensor):\n",
    "    \"\"\"\n",
    "    Flatten x_tensor to (Batch Size, Flattened Image Size)\n",
    "    : x_tensor: A tensor of size (Batch Size, ...), where ... are the image dimensions.\n",
    "    : return: A tensor of size (Batch Size, Flattened Image Size).\n",
    "    \"\"\"\n",
    "   \n",
    "    image_size=int(x_tensor.shape[1]*x_tensor.shape[2]*x_tensor.shape[3])\n",
    "    return tf.reshape(x_tensor,[-1,image_size])\n",
    "\n",
    "\n",
    "\"\"\"\n",
    "DON'T MODIFY ANYTHING IN THIS CELL THAT IS BELOW THIS LINE\n",
    "\"\"\"\n",
    "tests.test_flatten(flatten)"
   ]
  },
  {
   "cell_type": "markdown",
   "metadata": {
    "deletable": true,
    "editable": true
   },
   "source": [
    "### Fully-Connected Layer\n",
    "Implement the `fully_conn` function to apply a fully connected layer to `x_tensor` with the shape (*Batch Size*, *num_outputs*). Shortcut option: you can use classes from the [TensorFlow Layers](https://www.tensorflow.org/api_docs/python/tf/layers) or [TensorFlow Layers (contrib)](https://www.tensorflow.org/api_guides/python/contrib.layers) packages for this layer. For more of a challenge, only use other TensorFlow packages."
   ]
  },
  {
   "cell_type": "code",
   "execution_count": 5,
   "metadata": {
    "collapsed": false,
    "deletable": true,
    "editable": true
   },
   "outputs": [
    {
     "name": "stdout",
     "output_type": "stream",
     "text": [
      "Tests Passed\n"
     ]
    }
   ],
   "source": [
    "def fully_conn(x_tensor, num_outputs):\n",
    "    \"\"\"\n",
    "    Apply a fully connected layer to x_tensor using weight and bias\n",
    "    : x_tensor: A 2-D tensor where the first dimension is batch size.\n",
    "    : num_outputs: The number of output that the new tensor should be.\n",
    "    : return: A 2-D tensor where the second dimension is num_outputs.\n",
    "    \"\"\"\n",
    "    # TODO: Implement Function\n",
    "    \n",
    "    W=tf.Variable(tf.truncated_normal(mean=MEAN_INIT, stddev=STDDEV_INIT, shape=[x_tensor.shape[1].value, num_outputs]))\n",
    "    bias=tf.Variable(tf.truncated_normal(mean=MEAN_INIT, stddev=STDDEV_INIT, shape=[num_outputs]))\n",
    "    x=tf.add(tf.matmul(x_tensor,W),bias)\n",
    "    return tf.nn.relu(x)\n",
    "\n",
    "\n",
    "\"\"\"\n",
    "DON'T MODIFY ANYTHING IN THIS CELL THAT IS BELOW THIS LINE\n",
    "\"\"\"\n",
    "tests.test_fully_conn(fully_conn)"
   ]
  },
  {
   "cell_type": "markdown",
   "metadata": {
    "deletable": true,
    "editable": true
   },
   "source": [
    "### Output Layer\n",
    "Implement the `output` function to apply a fully connected layer to `x_tensor` with the shape (*Batch Size*, *num_outputs*). Shortcut option: you can use classes from the [TensorFlow Layers](https://www.tensorflow.org/api_docs/python/tf/layers) or [TensorFlow Layers (contrib)](https://www.tensorflow.org/api_guides/python/contrib.layers) packages for this layer. For more of a challenge, only use other TensorFlow packages.\n",
    "\n",
    "**Note:** Activation, softmax, or cross entropy should **not** be applied to this."
   ]
  },
  {
   "cell_type": "code",
   "execution_count": 6,
   "metadata": {
    "collapsed": false,
    "deletable": true,
    "editable": true
   },
   "outputs": [
    {
     "name": "stdout",
     "output_type": "stream",
     "text": [
      "Tests Passed\n"
     ]
    }
   ],
   "source": [
    "def output(x_tensor, num_outputs):\n",
    "    \"\"\"\n",
    "    Apply a output layer to x_tensor using weight and bias\n",
    "    : x_tensor: A 2-D tensor where the first dimension is batch size.\n",
    "    : num_outputs: The number of output that the new tensor should be.\n",
    "    : return: A 2-D tensor where the second dimension is num_outputs.\n",
    "    \"\"\"\n",
    "    # TODO: Implement Function\n",
    "    W=tf.Variable(tf.truncated_normal([x_tensor.shape[1].value,num_outputs]))\n",
    "    bias=tf.Variable(tf.zeros(num_outputs))\n",
    "    x=tf.add(tf.matmul(x_tensor,W),bias)\n",
    "    return x\n",
    "\n",
    "\n",
    "\"\"\"\n",
    "DON'T MODIFY ANYTHING IN THIS CELL THAT IS BELOW THIS LINE\n",
    "\"\"\"\n",
    "tests.test_output(output)"
   ]
  },
  {
   "cell_type": "markdown",
   "metadata": {
    "deletable": true,
    "editable": true
   },
   "source": [
    "### Create Convolutional Model\n",
    "Implement the function `conv_net` to create a convolutional neural network model. The function takes in a batch of images, `x`, and outputs logits.  Use the layers you created above to create this model:\n",
    "\n",
    "* Apply 1, 2, or 3 Convolution and Max Pool layers\n",
    "* Apply a Flatten Layer\n",
    "* Apply 1, 2, or 3 Fully Connected Layers\n",
    "* Apply an Output Layer\n",
    "* Return the output\n",
    "* Apply [TensorFlow's Dropout](https://www.tensorflow.org/api_docs/python/tf/nn/dropout) to one or more layers in the model using `keep_prob`. "
   ]
  },
  {
   "cell_type": "code",
   "execution_count": 7,
   "metadata": {
    "collapsed": false,
    "deletable": true,
    "editable": true
   },
   "outputs": [
    {
     "name": "stdout",
     "output_type": "stream",
     "text": [
      "Neural Network Built!\n"
     ]
    }
   ],
   "source": [
    "def conv_net(x, keep_prob):\n",
    "    \"\"\"\n",
    "    Create a convolutional neural network model\n",
    "    : x: Placeholder tensor that holds image data.\n",
    "    : keep_prob: Placeholder tensor that hold dropout keep probability.\n",
    "    : return: Tensor that represents logits\n",
    "    \"\"\"\n",
    "    conv_num_outputs=[]\n",
    "    # TODO: Apply 1, 2, or 3 Convolution and Max Pool layers\n",
    "    #    Play around with different number of outputs, kernel size and stride\n",
    "    # Function Definition from Above:\n",
    "    x = conv2d_maxpool(x, 16, (5, 5), (1, 1), (2, 2), (2, 2))\n",
    "    x = conv2d_maxpool(x, 32, (5, 5), (1, 1), (2, 2), (2, 2))\n",
    "    x = conv2d_maxpool(x, 64, (5, 5), (1, 1), (2, 2), (2, 2))\n",
    "    # TODO: Apply a Flatten Layer\n",
    "    # Function Definition from Above:\n",
    "    x=flatten(x)\n",
    "\n",
    "    # TODO: Apply 1, 2, or 3 Fully Connected Layers\n",
    "    #    Play around with different number of outputs\n",
    "    # Function Definition from Above:\n",
    "    x=fully_conn(x, num_outputs=786)\n",
    "    x=fully_conn(x, num_outputs=786) \n",
    "    x = tf.nn.dropout(x, keep_prob)\n",
    "    \n",
    "    # TODO: Apply an Output Layer\n",
    "    #    Set this to the number of classes\n",
    "    # Function Definition from Above:\n",
    "    x=output(x, num_outputs=10)\n",
    "    \n",
    "    \n",
    "    # TODO: return output\n",
    "    return x\n",
    "\n",
    "\n",
    "\"\"\"\n",
    "DON'T MODIFY ANYTHING IN THIS CELL THAT IS BELOW THIS LINE\n",
    "\"\"\"\n",
    "\n",
    "##############################\n",
    "## Build the Neural Network ##\n",
    "##############################\n",
    "\n",
    "# Remove previous weights, bias, inputs, etc..\n",
    "tf.reset_default_graph()\n",
    "\n",
    "# Inputs\n",
    "x = neural_net_image_input((32, 32, 3))\n",
    "y = neural_net_label_input(10)\n",
    "keep_prob = neural_net_keep_prob_input()\n",
    "\n",
    "# Model\n",
    "logits = conv_net(x, keep_prob)\n",
    "\n",
    "# Name logits Tensor, so that is can be loaded from disk after training\n",
    "logits = tf.identity(logits, name='logits')\n",
    "\n",
    "# Loss and Optimizer\n",
    "cost = tf.reduce_mean(tf.nn.softmax_cross_entropy_with_logits(logits=logits, labels=y))\n",
    "optimizer = tf.train.AdamOptimizer().minimize(cost)\n",
    "\n",
    "# Accuracy\n",
    "correct_pred = tf.equal(tf.argmax(logits, 1), tf.argmax(y, 1))\n",
    "accuracy = tf.reduce_mean(tf.cast(correct_pred, tf.float32), name='accuracy')\n",
    "\n",
    "tests.test_conv_net(conv_net)"
   ]
  },
  {
   "cell_type": "markdown",
   "metadata": {
    "deletable": true,
    "editable": true
   },
   "source": [
    "## Train the Neural Network\n",
    "### Single Optimization\n",
    "Implement the function `train_neural_network` to do a single optimization.  The optimization should use `optimizer` to optimize in `session` with a `feed_dict` of the following:\n",
    "* `x` for image input\n",
    "* `y` for labels\n",
    "* `keep_prob` for keep probability for dropout\n",
    "\n",
    "This function will be called for each batch, so `tf.global_variables_initializer()` has already been called.\n",
    "\n",
    "Note: Nothing needs to be returned. This function is only optimizing the neural network."
   ]
  },
  {
   "cell_type": "code",
   "execution_count": 8,
   "metadata": {
    "collapsed": false,
    "deletable": true,
    "editable": true
   },
   "outputs": [
    {
     "name": "stdout",
     "output_type": "stream",
     "text": [
      "Tests Passed\n"
     ]
    }
   ],
   "source": [
    "def train_neural_network(session, optimizer, keep_probability, feature_batch, label_batch):\n",
    "    \"\"\"\n",
    "    Optimize the session on a batch of images and labels\n",
    "    : session: Current TensorFlow session\n",
    "    : optimizer: TensorFlow optimizer function\n",
    "    : keep_probability: keep probability\n",
    "    : feature_batch: Batch of Numpy image data\n",
    "    : label_batch: Batch of Numpy label data\n",
    "    \"\"\"\n",
    "    feed_dict = {'keep_prob:0': keep_probability, 'x:0': feature_batch, 'y:0': label_batch}\n",
    "    session.run(optimizer, feed_dict=feed_dict)\n",
    "\n",
    "\n",
    "\"\"\"\n",
    "DON'T MODIFY ANYTHING IN THIS CELL THAT IS BELOW THIS LINE\n",
    "\"\"\"\n",
    "tests.test_train_nn(train_neural_network)"
   ]
  },
  {
   "cell_type": "markdown",
   "metadata": {
    "deletable": true,
    "editable": true
   },
   "source": [
    "### Show Stats\n",
    "Implement the function `print_stats` to print loss and validation accuracy.  Use the global variables `valid_features` and `valid_labels` to calculate validation accuracy.  Use a keep probability of `1.0` to calculate the loss and validation accuracy."
   ]
  },
  {
   "cell_type": "code",
   "execution_count": 9,
   "metadata": {
    "collapsed": true,
    "deletable": true,
    "editable": true
   },
   "outputs": [],
   "source": [
    "def print_stats(session, feature_batch, label_batch, cost, accuracy):\n",
    "    \"\"\"\n",
    "    Print information about loss and validation accuracy\n",
    "    : session: Current TensorFlow session\n",
    "    : feature_batch: Batch of Numpy image data\n",
    "    : label_batch: Batch of Numpy label data\n",
    "    : cost: TensorFlow cost function\n",
    "    : accuracy: TensorFlow accuracy function\n",
    "    \"\"\"\n",
    "    feed_cost = {'keep_prob:0': keep_probability, 'x:0': feature_batch, 'y:0': label_batch}\n",
    "    cost=session.run(cost, feed_dict=feed_cost)\n",
    "    feed_accuracy = {'keep_prob:0': keep_probability, 'x:0': valid_features, 'y:0': valid_labels}\n",
    "    accuracy=session.run(accuracy,feed_dict=feed_accuracy)\n",
    "    print(\"cost: {}, accuracy: {}\".format(cost, accuracy))\n",
    "    # TODO: Implement Function\n",
    "    pass"
   ]
  },
  {
   "cell_type": "markdown",
   "metadata": {
    "deletable": true,
    "editable": true
   },
   "source": [
    "### Hyperparameters\n",
    "Tune the following parameters:\n",
    "* Set `epochs` to the number of iterations until the network stops learning or start overfitting\n",
    "* Set `batch_size` to the highest number that your machine has memory for.  Most people set them to common sizes of memory:\n",
    " * 64\n",
    " * 128\n",
    " * 256\n",
    " * ...\n",
    "* Set `keep_probability` to the probability of keeping a node using dropout"
   ]
  },
  {
   "cell_type": "code",
   "execution_count": 10,
   "metadata": {
    "collapsed": true,
    "deletable": true,
    "editable": true
   },
   "outputs": [],
   "source": [
    "# TODO: Tune Parameters\n",
    "epochs = 50\n",
    "batch_size = 128\n",
    "keep_probability = 0.8"
   ]
  },
  {
   "cell_type": "markdown",
   "metadata": {
    "deletable": true,
    "editable": true
   },
   "source": [
    "### Train on a Single CIFAR-10 Batch\n",
    "Instead of training the neural network on all the CIFAR-10 batches of data, let's use a single batch. This should save time while you iterate on the model to get a better accuracy.  Once the final validation accuracy is 50% or greater, run the model on all the data in the next section."
   ]
  },
  {
   "cell_type": "code",
   "execution_count": 17,
   "metadata": {
    "collapsed": false,
    "deletable": true,
    "editable": true
   },
   "outputs": [
    {
     "name": "stdout",
     "output_type": "stream",
     "text": [
      "Checking the Training on a Single Batch...\n",
      "Epoch  1, CIFAR-10 Batch 1:  cost: 2.2427592277526855, accuracy: 0.23539999127388\n",
      "Epoch  2, CIFAR-10 Batch 1:  cost: 2.0407938957214355, accuracy: 0.31859999895095825\n",
      "Epoch  3, CIFAR-10 Batch 1:  cost: 1.7320318222045898, accuracy: 0.3959999680519104\n",
      "Epoch  4, CIFAR-10 Batch 1:  cost: 1.5132397413253784, accuracy: 0.44019997119903564\n",
      "Epoch  5, CIFAR-10 Batch 1:  cost: 1.2091209888458252, accuracy: 0.4731999337673187\n",
      "Epoch  6, CIFAR-10 Batch 1:  cost: 0.814053475856781, accuracy: 0.49699991941452026\n",
      "Epoch  7, CIFAR-10 Batch 1:  cost: 0.7808919548988342, accuracy: 0.5031999349594116\n",
      "Epoch  8, CIFAR-10 Batch 1:  cost: 0.6286003589630127, accuracy: 0.5001999139785767\n",
      "Epoch  9, CIFAR-10 Batch 1:  cost: 0.4314364790916443, accuracy: 0.5175999402999878\n",
      "Epoch 10, CIFAR-10 Batch 1:  cost: 0.3238156735897064, accuracy: 0.500999927520752\n",
      "Epoch 11, CIFAR-10 Batch 1:  cost: 0.2920665442943573, accuracy: 0.507599949836731\n",
      "Epoch 12, CIFAR-10 Batch 1:  cost: 0.2655963897705078, accuracy: 0.4771999716758728\n",
      "Epoch 13, CIFAR-10 Batch 1:  cost: 0.2560829818248749, accuracy: 0.4771999716758728\n",
      "Epoch 14, CIFAR-10 Batch 1:  cost: 0.16447794437408447, accuracy: 0.4899999797344208\n",
      "Epoch 15, CIFAR-10 Batch 1:  cost: 0.0881958082318306, accuracy: 0.5097999572753906\n",
      "Epoch 16, CIFAR-10 Batch 1:  cost: 0.10259144008159637, accuracy: 0.4949999451637268\n",
      "Epoch 17, CIFAR-10 Batch 1:  cost: 0.06719682365655899, accuracy: 0.478799968957901\n",
      "Epoch 18, CIFAR-10 Batch 1:  cost: 0.09344163537025452, accuracy: 0.4797999858856201\n",
      "Epoch 19, CIFAR-10 Batch 1:  cost: 0.05060189589858055, accuracy: 0.4779999554157257\n",
      "Epoch 20, CIFAR-10 Batch 1:  cost: 0.049525581300258636, accuracy: 0.4869999289512634\n",
      "Epoch 21, CIFAR-10 Batch 1:  cost: 0.09222665429115295, accuracy: 0.45879995822906494\n",
      "Epoch 22, CIFAR-10 Batch 1:  cost: 0.026742542162537575, accuracy: 0.5145999789237976\n",
      "Epoch 23, CIFAR-10 Batch 1:  cost: 0.020737260580062866, accuracy: 0.4997999370098114\n",
      "Epoch 24, CIFAR-10 Batch 1:  cost: 0.02879699505865574, accuracy: 0.5079999566078186\n",
      "Epoch 25, CIFAR-10 Batch 1:  cost: 0.015805725008249283, accuracy: 0.5087999701499939\n",
      "Epoch 26, CIFAR-10 Batch 1:  cost: 0.006757225841283798, accuracy: 0.5077999830245972\n",
      "Epoch 27, CIFAR-10 Batch 1:  cost: 0.004478118382394314, accuracy: 0.5043999552726746\n",
      "Epoch 28, CIFAR-10 Batch 1:  cost: 0.010608717799186707, accuracy: 0.4909999966621399\n",
      "Epoch 29, CIFAR-10 Batch 1:  cost: 0.009836665354669094, accuracy: 0.5007999539375305\n",
      "Epoch 30, CIFAR-10 Batch 1:  cost: 0.007746041752398014, accuracy: 0.5097999572753906\n",
      "Epoch 31, CIFAR-10 Batch 1:  cost: 0.005519259721040726, accuracy: 0.5187999606132507\n",
      "Epoch 32, CIFAR-10 Batch 1:  cost: 0.0025247205048799515, accuracy: 0.5265999436378479\n",
      "Epoch 33, CIFAR-10 Batch 1:  cost: 0.001740502193570137, accuracy: 0.5101999640464783\n",
      "Epoch 34, CIFAR-10 Batch 1:  cost: 0.0037106648087501526, accuracy: 0.5165999531745911\n",
      "Epoch 35, CIFAR-10 Batch 1:  cost: 0.0038676345720887184, accuracy: 0.5179999470710754\n",
      "Epoch 36, CIFAR-10 Batch 1:  cost: 0.0016435581492260098, accuracy: 0.5255999565124512\n",
      "Epoch 37, CIFAR-10 Batch 1:  cost: 0.007996256463229656, accuracy: 0.517799973487854\n",
      "Epoch 38, CIFAR-10 Batch 1:  cost: 0.0004892045981250703, accuracy: 0.512999951839447\n",
      "Epoch 39, CIFAR-10 Batch 1:  cost: 0.003954113461077213, accuracy: 0.4919999837875366\n",
      "Epoch 40, CIFAR-10 Batch 1:  cost: 0.0011836240300908685, accuracy: 0.5035999417304993\n",
      "Epoch 41, CIFAR-10 Batch 1:  cost: 0.006655373610556126, accuracy: 0.509399950504303\n",
      "Epoch 42, CIFAR-10 Batch 1:  cost: 0.0043088817037642, accuracy: 0.48579996824264526\n",
      "Epoch 43, CIFAR-10 Batch 1:  cost: 0.00033569149672985077, accuracy: 0.49299997091293335\n",
      "Epoch 44, CIFAR-10 Batch 1:  cost: 0.00035326191573403776, accuracy: 0.5163999795913696\n",
      "Epoch 45, CIFAR-10 Batch 1:  cost: 0.0010419973405078053, accuracy: 0.5163999795913696\n",
      "Epoch 46, CIFAR-10 Batch 1:  cost: 0.01871386356651783, accuracy: 0.5085999965667725\n",
      "Epoch 47, CIFAR-10 Batch 1:  cost: 0.00498999934643507, accuracy: 0.5087999701499939\n",
      "Epoch 48, CIFAR-10 Batch 1:  cost: 0.0007008588290773332, accuracy: 0.5023999810218811\n",
      "Epoch 49, CIFAR-10 Batch 1:  cost: 0.0008769748383201659, accuracy: 0.5079998970031738\n",
      "Epoch 50, CIFAR-10 Batch 1:  cost: 0.005240697413682938, accuracy: 0.5125999450683594\n"
     ]
    }
   ],
   "source": [
    "\"\"\"\n",
    "DON'T MODIFY ANYTHING IN THIS CELL\n",
    "\"\"\"\n",
    "print('Checking the Training on a Single Batch...')\n",
    "with tf.Session() as sess:\n",
    "    # Initializing the variables\n",
    "    sess.run(tf.global_variables_initializer())\n",
    "    \n",
    "    # Training cycle\n",
    "    for epoch in range(epochs):\n",
    "        batch_i = 1\n",
    "        for batch_features, batch_labels in helper.load_preprocess_training_batch(batch_i, batch_size):\n",
    "            train_neural_network(sess, optimizer, keep_probability, batch_features, batch_labels)\n",
    "        print('Epoch {:>2}, CIFAR-10 Batch {}:  '.format(epoch + 1, batch_i), end='')\n",
    "        print_stats(sess, batch_features, batch_labels, cost, accuracy)"
   ]
  },
  {
   "cell_type": "markdown",
   "metadata": {
    "deletable": true,
    "editable": true
   },
   "source": [
    "### Fully Train the Model\n",
    "Now that you got a good accuracy with a single CIFAR-10 batch, try it with all five batches."
   ]
  },
  {
   "cell_type": "code",
   "execution_count": 11,
   "metadata": {
    "collapsed": false,
    "deletable": true,
    "editable": true
   },
   "outputs": [
    {
     "name": "stdout",
     "output_type": "stream",
     "text": [
      "Training...\n",
      "Epoch  1, CIFAR-10 Batch 1:  cost: 2.1577045917510986, accuracy: 0.22699998319149017\n",
      "Epoch  1, CIFAR-10 Batch 2:  cost: 1.8553059101104736, accuracy: 0.3667999804019928\n",
      "Epoch  1, CIFAR-10 Batch 3:  cost: 1.185328722000122, accuracy: 0.4309999942779541\n",
      "Epoch  1, CIFAR-10 Batch 4:  cost: 1.335034728050232, accuracy: 0.46599993109703064\n",
      "Epoch  1, CIFAR-10 Batch 5:  cost: 1.5152300596237183, accuracy: 0.5008000135421753\n",
      "Epoch  2, CIFAR-10 Batch 1:  cost: 1.5361875295639038, accuracy: 0.493399977684021\n",
      "Epoch  2, CIFAR-10 Batch 2:  cost: 1.4216092824935913, accuracy: 0.49959999322891235\n",
      "Epoch  2, CIFAR-10 Batch 3:  cost: 0.9435378313064575, accuracy: 0.5075998902320862\n",
      "Epoch  2, CIFAR-10 Batch 4:  cost: 1.1588923931121826, accuracy: 0.5443999171257019\n",
      "Epoch  2, CIFAR-10 Batch 5:  cost: 1.210066556930542, accuracy: 0.5591999292373657\n",
      "Epoch  3, CIFAR-10 Batch 1:  cost: 1.2266242504119873, accuracy: 0.558199942111969\n",
      "Epoch  3, CIFAR-10 Batch 2:  cost: 1.1010558605194092, accuracy: 0.5751999020576477\n",
      "Epoch  3, CIFAR-10 Batch 3:  cost: 0.8246574401855469, accuracy: 0.5669999122619629\n",
      "Epoch  3, CIFAR-10 Batch 4:  cost: 0.8768447637557983, accuracy: 0.5703999400138855\n",
      "Epoch  3, CIFAR-10 Batch 5:  cost: 0.8577079772949219, accuracy: 0.5909999012947083\n",
      "Epoch  4, CIFAR-10 Batch 1:  cost: 1.0247564315795898, accuracy: 0.5805999040603638\n",
      "Epoch  4, CIFAR-10 Batch 2:  cost: 0.7762237787246704, accuracy: 0.590999960899353\n",
      "Epoch  4, CIFAR-10 Batch 3:  cost: 0.6411420106887817, accuracy: 0.5787999033927917\n",
      "Epoch  4, CIFAR-10 Batch 4:  cost: 0.6041019558906555, accuracy: 0.5917999148368835\n",
      "Epoch  4, CIFAR-10 Batch 5:  cost: 0.5832586288452148, accuracy: 0.5751999020576477\n",
      "Epoch  5, CIFAR-10 Batch 1:  cost: 0.7672988176345825, accuracy: 0.5899998545646667\n",
      "Epoch  5, CIFAR-10 Batch 2:  cost: 0.5648606419563293, accuracy: 0.6103999614715576\n",
      "Epoch  5, CIFAR-10 Batch 3:  cost: 0.4327095150947571, accuracy: 0.6253998875617981\n",
      "Epoch  5, CIFAR-10 Batch 4:  cost: 0.4364103078842163, accuracy: 0.6013998985290527\n",
      "Epoch  5, CIFAR-10 Batch 5:  cost: 0.41688111424446106, accuracy: 0.6065999269485474\n",
      "Epoch  6, CIFAR-10 Batch 1:  cost: 0.5694918036460876, accuracy: 0.6115999221801758\n",
      "Epoch  6, CIFAR-10 Batch 2:  cost: 0.41016045212745667, accuracy: 0.626599907875061\n",
      "Epoch  6, CIFAR-10 Batch 3:  cost: 0.3373982608318329, accuracy: 0.6355998516082764\n",
      "Epoch  6, CIFAR-10 Batch 4:  cost: 0.28107208013534546, accuracy: 0.6031998991966248\n",
      "Epoch  6, CIFAR-10 Batch 5:  cost: 0.30643385648727417, accuracy: 0.6191998720169067\n",
      "Epoch  7, CIFAR-10 Batch 1:  cost: 0.46811312437057495, accuracy: 0.6289999485015869\n",
      "Epoch  7, CIFAR-10 Batch 2:  cost: 0.2759336531162262, accuracy: 0.6277998685836792\n",
      "Epoch  7, CIFAR-10 Batch 3:  cost: 0.22321978211402893, accuracy: 0.6285998821258545\n",
      "Epoch  7, CIFAR-10 Batch 4:  cost: 0.24690061807632446, accuracy: 0.6079999804496765\n",
      "Epoch  7, CIFAR-10 Batch 5:  cost: 0.24275049567222595, accuracy: 0.6159999370574951\n",
      "Epoch  8, CIFAR-10 Batch 1:  cost: 0.3672572672367096, accuracy: 0.6339998841285706\n",
      "Epoch  8, CIFAR-10 Batch 2:  cost: 0.2716188430786133, accuracy: 0.6073999404907227\n",
      "Epoch  8, CIFAR-10 Batch 3:  cost: 0.20684117078781128, accuracy: 0.6183998584747314\n",
      "Epoch  8, CIFAR-10 Batch 4:  cost: 0.2469176948070526, accuracy: 0.624799907207489\n",
      "Epoch  8, CIFAR-10 Batch 5:  cost: 0.1939978301525116, accuracy: 0.6043999195098877\n",
      "Epoch  9, CIFAR-10 Batch 1:  cost: 0.308403342962265, accuracy: 0.6287998557090759\n",
      "Epoch  9, CIFAR-10 Batch 2:  cost: 0.2030859738588333, accuracy: 0.6097999215126038\n",
      "Epoch  9, CIFAR-10 Batch 3:  cost: 0.13345780968666077, accuracy: 0.6283998489379883\n",
      "Epoch  9, CIFAR-10 Batch 4:  cost: 0.13862597942352295, accuracy: 0.6109999418258667\n",
      "Epoch  9, CIFAR-10 Batch 5:  cost: 0.1095576360821724, accuracy: 0.6155998706817627\n",
      "Epoch 10, CIFAR-10 Batch 1:  cost: 0.1539323329925537, accuracy: 0.6019999384880066\n",
      "Epoch 10, CIFAR-10 Batch 2:  cost: 0.08014201372861862, accuracy: 0.601599931716919\n",
      "Epoch 10, CIFAR-10 Batch 3:  cost: 0.11036597192287445, accuracy: 0.6041999459266663\n",
      "Epoch 10, CIFAR-10 Batch 4:  cost: 0.08395636826753616, accuracy: 0.6101998686790466\n",
      "Epoch 10, CIFAR-10 Batch 5:  cost: 0.06872741878032684, accuracy: 0.6073999404907227\n",
      "Epoch 11, CIFAR-10 Batch 1:  cost: 0.09611861407756805, accuracy: 0.5955999493598938\n",
      "Epoch 11, CIFAR-10 Batch 2:  cost: 0.07377795875072479, accuracy: 0.6135998964309692\n",
      "Epoch 11, CIFAR-10 Batch 3:  cost: 0.044348377734422684, accuracy: 0.5999999046325684\n",
      "Epoch 11, CIFAR-10 Batch 4:  cost: 0.08301176130771637, accuracy: 0.5997999310493469\n",
      "Epoch 11, CIFAR-10 Batch 5:  cost: 0.0652611181139946, accuracy: 0.6183998584747314\n",
      "Epoch 12, CIFAR-10 Batch 1:  cost: 0.13970255851745605, accuracy: 0.6137999296188354\n",
      "Epoch 12, CIFAR-10 Batch 2:  cost: 0.05172976106405258, accuracy: 0.6009998917579651\n",
      "Epoch 12, CIFAR-10 Batch 3:  cost: 0.060343027114868164, accuracy: 0.6119999289512634\n",
      "Epoch 12, CIFAR-10 Batch 4:  cost: 0.07945269346237183, accuracy: 0.5989998579025269\n",
      "Epoch 12, CIFAR-10 Batch 5:  cost: 0.04601128399372101, accuracy: 0.6191998720169067\n",
      "Epoch 13, CIFAR-10 Batch 1:  cost: 0.055043287575244904, accuracy: 0.5935999155044556\n",
      "Epoch 13, CIFAR-10 Batch 2:  cost: 0.042677875608205795, accuracy: 0.6077998876571655\n",
      "Epoch 13, CIFAR-10 Batch 3:  cost: 0.07563374936580658, accuracy: 0.6073998808860779\n",
      "Epoch 13, CIFAR-10 Batch 4:  cost: 0.033998191356658936, accuracy: 0.6073998808860779\n",
      "Epoch 13, CIFAR-10 Batch 5:  cost: 0.04316549748182297, accuracy: 0.6261999011039734\n",
      "Epoch 14, CIFAR-10 Batch 1:  cost: 0.04169583320617676, accuracy: 0.6133999228477478\n",
      "Epoch 14, CIFAR-10 Batch 2:  cost: 0.03492669761180878, accuracy: 0.5945999026298523\n",
      "Epoch 14, CIFAR-10 Batch 3:  cost: 0.025766003876924515, accuracy: 0.6067999601364136\n",
      "Epoch 14, CIFAR-10 Batch 4:  cost: 0.01797674596309662, accuracy: 0.6157999038696289\n",
      "Epoch 14, CIFAR-10 Batch 5:  cost: 0.03157922998070717, accuracy: 0.6123999357223511\n",
      "Epoch 15, CIFAR-10 Batch 1:  cost: 0.058042000979185104, accuracy: 0.6147998571395874\n",
      "Epoch 15, CIFAR-10 Batch 2:  cost: 0.04449928551912308, accuracy: 0.5893999338150024\n",
      "Epoch 15, CIFAR-10 Batch 3:  cost: 0.019897522404789925, accuracy: 0.6063998937606812\n",
      "Epoch 15, CIFAR-10 Batch 4:  cost: 0.04164574295282364, accuracy: 0.6121999025344849\n",
      "Epoch 15, CIFAR-10 Batch 5:  cost: 0.013174875639379025, accuracy: 0.5909999012947083\n",
      "Epoch 16, CIFAR-10 Batch 1:  cost: 0.05823980271816254, accuracy: 0.6017999649047852\n",
      "Epoch 16, CIFAR-10 Batch 2:  cost: 0.030421216040849686, accuracy: 0.6069998741149902\n",
      "Epoch 16, CIFAR-10 Batch 3:  cost: 0.015573360025882721, accuracy: 0.6115999221801758\n",
      "Epoch 16, CIFAR-10 Batch 4:  cost: 0.007036426104605198, accuracy: 0.6237998604774475\n",
      "Epoch 16, CIFAR-10 Batch 5:  cost: 0.022990519180893898, accuracy: 0.5883999466896057\n",
      "Epoch 17, CIFAR-10 Batch 1:  cost: 0.07887937873601913, accuracy: 0.5779998898506165\n",
      "Epoch 17, CIFAR-10 Batch 2:  cost: 0.05404641851782799, accuracy: 0.603399932384491\n",
      "Epoch 17, CIFAR-10 Batch 3:  cost: 0.028374873101711273, accuracy: 0.6101999282836914\n",
      "Epoch 17, CIFAR-10 Batch 4:  cost: 0.011594258248806, accuracy: 0.6175999045372009\n",
      "Epoch 17, CIFAR-10 Batch 5:  cost: 0.05802008509635925, accuracy: 0.6317999362945557\n",
      "Epoch 18, CIFAR-10 Batch 1:  cost: 0.06145978718996048, accuracy: 0.5909999012947083\n",
      "Epoch 18, CIFAR-10 Batch 2:  cost: 0.010538389906287193, accuracy: 0.6167998313903809\n",
      "Epoch 18, CIFAR-10 Batch 3:  cost: 0.004478453658521175, accuracy: 0.6193999648094177\n",
      "Epoch 18, CIFAR-10 Batch 4:  cost: 0.03380636125802994, accuracy: 0.6173998713493347\n",
      "Epoch 18, CIFAR-10 Batch 5:  cost: 0.03804902359843254, accuracy: 0.6157999038696289\n",
      "Epoch 19, CIFAR-10 Batch 1:  cost: 0.051036983728408813, accuracy: 0.5927999019622803\n",
      "Epoch 19, CIFAR-10 Batch 2:  cost: 0.0369950570166111, accuracy: 0.6011999249458313\n",
      "Epoch 19, CIFAR-10 Batch 3:  cost: 0.0069273123517632484, accuracy: 0.6105998754501343\n",
      "Epoch 19, CIFAR-10 Batch 4:  cost: 0.025020696222782135, accuracy: 0.6165999174118042\n",
      "Epoch 19, CIFAR-10 Batch 5:  cost: 0.07283265143632889, accuracy: 0.5995998978614807\n",
      "Epoch 20, CIFAR-10 Batch 1:  cost: 0.04530908912420273, accuracy: 0.5829999446868896\n",
      "Epoch 20, CIFAR-10 Batch 2:  cost: 0.03978182002902031, accuracy: 0.5941998958587646\n",
      "Epoch 20, CIFAR-10 Batch 3:  cost: 0.009484771639108658, accuracy: 0.6047998666763306\n",
      "Epoch 20, CIFAR-10 Batch 4:  cost: 0.01113959215581417, accuracy: 0.6175999045372009\n",
      "Epoch 20, CIFAR-10 Batch 5:  cost: 0.023597102612257004, accuracy: 0.6165999174118042\n",
      "Epoch 21, CIFAR-10 Batch 1:  cost: 0.009411031380295753, accuracy: 0.5945999622344971\n",
      "Epoch 21, CIFAR-10 Batch 2:  cost: 0.007450041826814413, accuracy: 0.5969999432563782\n",
      "Epoch 21, CIFAR-10 Batch 3:  cost: 0.0335564911365509, accuracy: 0.621799886226654\n",
      "Epoch 21, CIFAR-10 Batch 4:  cost: 0.020731991156935692, accuracy: 0.6179998517036438\n",
      "Epoch 21, CIFAR-10 Batch 5:  cost: 0.005426616873592138, accuracy: 0.6171998977661133\n",
      "Epoch 22, CIFAR-10 Batch 1:  cost: 0.023351941257715225, accuracy: 0.5781999826431274\n",
      "Epoch 22, CIFAR-10 Batch 2:  cost: 0.005327652674168348, accuracy: 0.6091998815536499\n",
      "Epoch 22, CIFAR-10 Batch 3:  cost: 0.005238404963165522, accuracy: 0.6239998936653137\n",
      "Epoch 22, CIFAR-10 Batch 4:  cost: 0.02566584013402462, accuracy: 0.6203998327255249\n",
      "Epoch 22, CIFAR-10 Batch 5:  cost: 0.008056036196649075, accuracy: 0.6151999235153198\n",
      "Epoch 23, CIFAR-10 Batch 1:  cost: 0.008755801245570183, accuracy: 0.6035999059677124\n",
      "Epoch 23, CIFAR-10 Batch 2:  cost: 0.004617597907781601, accuracy: 0.6119998693466187\n",
      "Epoch 23, CIFAR-10 Batch 3:  cost: 0.0007012057467363775, accuracy: 0.629599928855896\n",
      "Epoch 23, CIFAR-10 Batch 4:  cost: 0.009575764648616314, accuracy: 0.6089999675750732\n",
      "Epoch 23, CIFAR-10 Batch 5:  cost: 0.006068243645131588, accuracy: 0.6141998767852783\n",
      "Epoch 24, CIFAR-10 Batch 1:  cost: 0.005394535604864359, accuracy: 0.6263998746871948\n",
      "Epoch 24, CIFAR-10 Batch 2:  cost: 0.009217049926519394, accuracy: 0.5989999771118164\n",
      "Epoch 24, CIFAR-10 Batch 3:  cost: 0.03163521736860275, accuracy: 0.6165999174118042\n",
      "Epoch 24, CIFAR-10 Batch 4:  cost: 0.005483903922140598, accuracy: 0.6059999465942383\n",
      "Epoch 24, CIFAR-10 Batch 5:  cost: 0.004287637770175934, accuracy: 0.6177999377250671\n",
      "Epoch 25, CIFAR-10 Batch 1:  cost: 0.0045296321623027325, accuracy: 0.6295998692512512\n",
      "Epoch 25, CIFAR-10 Batch 2:  cost: 0.016914652660489082, accuracy: 0.6061998605728149\n",
      "Epoch 25, CIFAR-10 Batch 3:  cost: 0.0038647018373012543, accuracy: 0.6207998991012573\n",
      "Epoch 25, CIFAR-10 Batch 4:  cost: 0.01164703443646431, accuracy: 0.6203999519348145\n",
      "Epoch 25, CIFAR-10 Batch 5:  cost: 0.006585775874555111, accuracy: 0.6233999133110046\n",
      "Epoch 26, CIFAR-10 Batch 1:  cost: 0.0053392332047224045, accuracy: 0.6247999668121338\n",
      "Epoch 26, CIFAR-10 Batch 2:  cost: 0.004564761649817228, accuracy: 0.6291999220848083\n",
      "Epoch 26, CIFAR-10 Batch 3:  cost: 0.012729483656585217, accuracy: 0.6131998896598816\n",
      "Epoch 26, CIFAR-10 Batch 4:  cost: 0.0033941688016057014, accuracy: 0.6129999160766602\n",
      "Epoch 26, CIFAR-10 Batch 5:  cost: 0.0028707985766232014, accuracy: 0.6223999261856079\n",
      "Epoch 27, CIFAR-10 Batch 1:  cost: 0.004663518629968166, accuracy: 0.6287997961044312\n",
      "Epoch 27, CIFAR-10 Batch 2:  cost: 0.008320910856127739, accuracy: 0.6119998693466187\n",
      "Epoch 27, CIFAR-10 Batch 3:  cost: 0.008085372857749462, accuracy: 0.6079999208450317\n",
      "Epoch 27, CIFAR-10 Batch 4:  cost: 0.010323526337742805, accuracy: 0.6085999011993408\n",
      "Epoch 27, CIFAR-10 Batch 5:  cost: 0.008647486567497253, accuracy: 0.6143999099731445\n",
      "Epoch 28, CIFAR-10 Batch 1:  cost: 0.0052285268902778625, accuracy: 0.6249998807907104\n",
      "Epoch 28, CIFAR-10 Batch 2:  cost: 0.016595037654042244, accuracy: 0.6107999682426453\n",
      "Epoch 28, CIFAR-10 Batch 3:  cost: 0.039928581565618515, accuracy: 0.5947999358177185\n",
      "Epoch 28, CIFAR-10 Batch 4:  cost: 0.0012717923382297158, accuracy: 0.6175999045372009\n",
      "Epoch 28, CIFAR-10 Batch 5:  cost: 0.005400177091360092, accuracy: 0.60999995470047\n",
      "Epoch 29, CIFAR-10 Batch 1:  cost: 0.007300837431102991, accuracy: 0.6223998665809631\n",
      "Epoch 29, CIFAR-10 Batch 2:  cost: 0.0045577166602015495, accuracy: 0.6179999113082886\n",
      "Epoch 29, CIFAR-10 Batch 3:  cost: 0.00017351508722640574, accuracy: 0.6183998584747314\n",
      "Epoch 29, CIFAR-10 Batch 4:  cost: 0.0010406167712062597, accuracy: 0.6239999532699585\n",
      "Epoch 29, CIFAR-10 Batch 5:  cost: 0.0012982290936633945, accuracy: 0.6249998807907104\n",
      "Epoch 30, CIFAR-10 Batch 1:  cost: 0.007698424160480499, accuracy: 0.6285998821258545\n",
      "Epoch 30, CIFAR-10 Batch 2:  cost: 0.013423893600702286, accuracy: 0.624799907207489\n",
      "Epoch 30, CIFAR-10 Batch 3:  cost: 0.002527210395783186, accuracy: 0.6291998624801636\n",
      "Epoch 30, CIFAR-10 Batch 4:  cost: 0.001594155328348279, accuracy: 0.6201999187469482\n",
      "Epoch 30, CIFAR-10 Batch 5:  cost: 0.011002629064023495, accuracy: 0.6223998665809631\n",
      "Epoch 31, CIFAR-10 Batch 1:  cost: 0.030007289722561836, accuracy: 0.6349998712539673\n",
      "Epoch 31, CIFAR-10 Batch 2:  cost: 0.0041837915778160095, accuracy: 0.6289998888969421\n",
      "Epoch 31, CIFAR-10 Batch 3:  cost: 0.0004901114152744412, accuracy: 0.6247998476028442\n",
      "Epoch 31, CIFAR-10 Batch 4:  cost: 0.00381995877251029, accuracy: 0.6105998754501343\n",
      "Epoch 31, CIFAR-10 Batch 5:  cost: 0.0621110200881958, accuracy: 0.629599928855896\n",
      "Epoch 32, CIFAR-10 Batch 1:  cost: 0.009790724143385887, accuracy: 0.6197999715805054\n",
      "Epoch 32, CIFAR-10 Batch 2:  cost: 0.0044875675812363625, accuracy: 0.6251999139785767\n",
      "Epoch 32, CIFAR-10 Batch 3:  cost: 0.006956341210752726, accuracy: 0.6229998469352722\n",
      "Epoch 32, CIFAR-10 Batch 4:  cost: 0.003582073375582695, accuracy: 0.6303999423980713\n",
      "Epoch 32, CIFAR-10 Batch 5:  cost: 0.02179224230349064, accuracy: 0.6257999539375305\n",
      "Epoch 33, CIFAR-10 Batch 1:  cost: 0.014364932663738728, accuracy: 0.627799928188324\n",
      "Epoch 33, CIFAR-10 Batch 2:  cost: 0.0017498971428722143, accuracy: 0.6323999166488647\n",
      "Epoch 33, CIFAR-10 Batch 3:  cost: 0.007830418646335602, accuracy: 0.6307998895645142\n",
      "Epoch 33, CIFAR-10 Batch 4:  cost: 0.0008229986415244639, accuracy: 0.6257998943328857\n",
      "Epoch 33, CIFAR-10 Batch 5:  cost: 0.0020233772229403257, accuracy: 0.6243998408317566\n",
      "Epoch 34, CIFAR-10 Batch 1:  cost: 0.03129936754703522, accuracy: 0.6229999661445618\n",
      "Epoch 34, CIFAR-10 Batch 2:  cost: 0.0009398132096976042, accuracy: 0.6273998618125916\n",
      "Epoch 34, CIFAR-10 Batch 3:  cost: 0.0012669020798057318, accuracy: 0.6353998780250549\n",
      "Epoch 34, CIFAR-10 Batch 4:  cost: 0.007432004902511835, accuracy: 0.6101999282836914\n",
      "Epoch 34, CIFAR-10 Batch 5:  cost: 0.004531616345047951, accuracy: 0.6255999207496643\n",
      "Epoch 35, CIFAR-10 Batch 1:  cost: 0.004230921156704426, accuracy: 0.6221998929977417\n",
      "Epoch 35, CIFAR-10 Batch 2:  cost: 0.07397548109292984, accuracy: 0.6347998380661011\n",
      "Epoch 35, CIFAR-10 Batch 3:  cost: 6.503323675133288e-05, accuracy: 0.624799907207489\n",
      "Epoch 35, CIFAR-10 Batch 4:  cost: 0.013590904884040356, accuracy: 0.6139999032020569\n",
      "Epoch 35, CIFAR-10 Batch 5:  cost: 0.00022839893063064665, accuracy: 0.6311999559402466\n",
      "Epoch 36, CIFAR-10 Batch 1:  cost: 0.005046069156378508, accuracy: 0.631399929523468\n",
      "Epoch 36, CIFAR-10 Batch 2:  cost: 0.01990058831870556, accuracy: 0.6231999397277832\n",
      "Epoch 36, CIFAR-10 Batch 3:  cost: 4.195887959212996e-05, accuracy: 0.6207998991012573\n",
      "Epoch 36, CIFAR-10 Batch 4:  cost: 0.0034273010678589344, accuracy: 0.6131998896598816\n",
      "Epoch 36, CIFAR-10 Batch 5:  cost: 0.0021924497559666634, accuracy: 0.6285998821258545\n",
      "Epoch 37, CIFAR-10 Batch 1:  cost: 0.002531130099669099, accuracy: 0.6263998746871948\n",
      "Epoch 37, CIFAR-10 Batch 2:  cost: 0.0013037073658779263, accuracy: 0.6147998571395874\n",
      "Epoch 37, CIFAR-10 Batch 3:  cost: 0.004399850964546204, accuracy: 0.6231999397277832\n",
      "Epoch 37, CIFAR-10 Batch 4:  cost: 0.0020314238499850035, accuracy: 0.6079999804496765\n",
      "Epoch 37, CIFAR-10 Batch 5:  cost: 0.009232969954609871, accuracy: 0.6175999045372009\n",
      "Epoch 38, CIFAR-10 Batch 1:  cost: 0.0390099436044693, accuracy: 0.6233999133110046\n",
      "Epoch 38, CIFAR-10 Batch 2:  cost: 0.026461567729711533, accuracy: 0.6061999201774597\n",
      "Epoch 38, CIFAR-10 Batch 3:  cost: 0.0018046260811388493, accuracy: 0.6293998956680298\n",
      "Epoch 38, CIFAR-10 Batch 4:  cost: 0.006921513006091118, accuracy: 0.6123999357223511\n",
      "Epoch 38, CIFAR-10 Batch 5:  cost: 0.008765838108956814, accuracy: 0.6223998665809631\n",
      "Epoch 39, CIFAR-10 Batch 1:  cost: 0.002604335779324174, accuracy: 0.6209998726844788\n",
      "Epoch 39, CIFAR-10 Batch 2:  cost: 0.002801703754812479, accuracy: 0.6175999045372009\n",
      "Epoch 39, CIFAR-10 Batch 3:  cost: 0.02952498383820057, accuracy: 0.6237998604774475\n",
      "Epoch 39, CIFAR-10 Batch 4:  cost: 0.0029084132984280586, accuracy: 0.6227998733520508\n",
      "Epoch 39, CIFAR-10 Batch 5:  cost: 0.00497039407491684, accuracy: 0.6259998679161072\n",
      "Epoch 40, CIFAR-10 Batch 1:  cost: 0.013556763529777527, accuracy: 0.621199905872345\n",
      "Epoch 40, CIFAR-10 Batch 2:  cost: 0.0005938446847721934, accuracy: 0.6129999160766602\n",
      "Epoch 40, CIFAR-10 Batch 3:  cost: 0.000713881105184555, accuracy: 0.6159999966621399\n",
      "Epoch 40, CIFAR-10 Batch 4:  cost: 0.010947632603347301, accuracy: 0.6163999438285828\n",
      "Epoch 40, CIFAR-10 Batch 5:  cost: 0.0013138926587998867, accuracy: 0.6245998740196228\n",
      "Epoch 41, CIFAR-10 Batch 1:  cost: 0.04483472555875778, accuracy: 0.6223999261856079\n",
      "Epoch 41, CIFAR-10 Batch 2:  cost: 0.010956625454127789, accuracy: 0.6131998896598816\n",
      "Epoch 41, CIFAR-10 Batch 3:  cost: 0.047943878918886185, accuracy: 0.6319999694824219\n",
      "Epoch 41, CIFAR-10 Batch 4:  cost: 0.015929359942674637, accuracy: 0.6237999200820923\n",
      "Epoch 41, CIFAR-10 Batch 5:  cost: 0.0029012730810791254, accuracy: 0.6239999532699585\n",
      "Epoch 42, CIFAR-10 Batch 1:  cost: 6.019869397277944e-05, accuracy: 0.6269998550415039\n",
      "Epoch 42, CIFAR-10 Batch 2:  cost: 0.0006532745901495218, accuracy: 0.6175998449325562\n",
      "Epoch 42, CIFAR-10 Batch 3:  cost: 0.0016391578828915954, accuracy: 0.6353999376296997\n",
      "Epoch 42, CIFAR-10 Batch 4:  cost: 0.00023581204004585743, accuracy: 0.6269998550415039\n",
      "Epoch 42, CIFAR-10 Batch 5:  cost: 0.0003260978264734149, accuracy: 0.6305999159812927\n",
      "Epoch 43, CIFAR-10 Batch 1:  cost: 0.00016996855265460908, accuracy: 0.6207998991012573\n",
      "Epoch 43, CIFAR-10 Batch 2:  cost: 0.0003297037328593433, accuracy: 0.6101998686790466\n",
      "Epoch 43, CIFAR-10 Batch 3:  cost: 0.001004625461064279, accuracy: 0.6373999118804932\n",
      "Epoch 43, CIFAR-10 Batch 4:  cost: 0.03314555063843727, accuracy: 0.6281999349594116\n",
      "Epoch 43, CIFAR-10 Batch 5:  cost: 0.019687896594405174, accuracy: 0.6221998929977417\n",
      "Epoch 44, CIFAR-10 Batch 1:  cost: 0.0012551104882732034, accuracy: 0.624799907207489\n",
      "Epoch 44, CIFAR-10 Batch 2:  cost: 0.06026959791779518, accuracy: 0.6191999912261963\n",
      "Epoch 44, CIFAR-10 Batch 3:  cost: 0.00031173499883152544, accuracy: 0.6233999729156494\n",
      "Epoch 44, CIFAR-10 Batch 4:  cost: 0.017508598044514656, accuracy: 0.6185998916625977\n",
      "Epoch 44, CIFAR-10 Batch 5:  cost: 0.0002475846849847585, accuracy: 0.6401998996734619\n",
      "Epoch 45, CIFAR-10 Batch 1:  cost: 0.002673554001376033, accuracy: 0.6287999153137207\n",
      "Epoch 45, CIFAR-10 Batch 2:  cost: 0.008774878457188606, accuracy: 0.622999906539917\n",
      "Epoch 45, CIFAR-10 Batch 3:  cost: 0.005959466099739075, accuracy: 0.6227999329566956\n",
      "Epoch 45, CIFAR-10 Batch 4:  cost: 0.00014540020492859185, accuracy: 0.6245999336242676\n",
      "Epoch 45, CIFAR-10 Batch 5:  cost: 0.003991786856204271, accuracy: 0.614599883556366\n",
      "Epoch 46, CIFAR-10 Batch 1:  cost: 0.0051707131788134575, accuracy: 0.6281998753547668\n",
      "Epoch 46, CIFAR-10 Batch 2:  cost: 0.0027993780095130205, accuracy: 0.6287999153137207\n",
      "Epoch 46, CIFAR-10 Batch 3:  cost: 0.0028154635801911354, accuracy: 0.6179999113082886\n",
      "Epoch 46, CIFAR-10 Batch 4:  cost: 0.0020988336764276028, accuracy: 0.6151999235153198\n",
      "Epoch 46, CIFAR-10 Batch 5:  cost: 0.010349283926188946, accuracy: 0.6157999038696289\n",
      "Epoch 47, CIFAR-10 Batch 1:  cost: 8.92731113708578e-05, accuracy: 0.6231999397277832\n",
      "Epoch 47, CIFAR-10 Batch 2:  cost: 0.0043086581863462925, accuracy: 0.624799907207489\n",
      "Epoch 47, CIFAR-10 Batch 3:  cost: 0.00033191434340551496, accuracy: 0.6177999377250671\n",
      "Epoch 47, CIFAR-10 Batch 4:  cost: 0.038149818778038025, accuracy: 0.6209998726844788\n",
      "Epoch 47, CIFAR-10 Batch 5:  cost: 0.02329256199300289, accuracy: 0.6165999174118042\n",
      "Epoch 48, CIFAR-10 Batch 1:  cost: 0.00041117967339232564, accuracy: 0.6261999011039734\n",
      "Epoch 48, CIFAR-10 Batch 2:  cost: 0.015473942272365093, accuracy: 0.6173999309539795\n",
      "Epoch 48, CIFAR-10 Batch 3:  cost: 0.0019547813571989536, accuracy: 0.619999885559082\n",
      "Epoch 48, CIFAR-10 Batch 4:  cost: 0.001372717902995646, accuracy: 0.6287999153137207\n",
      "Epoch 48, CIFAR-10 Batch 5:  cost: 0.0007431823178194463, accuracy: 0.6341999173164368\n",
      "Epoch 49, CIFAR-10 Batch 1:  cost: 0.0014950222102925181, accuracy: 0.6223999261856079\n",
      "Epoch 49, CIFAR-10 Batch 2:  cost: 0.010539512149989605, accuracy: 0.629599928855896\n",
      "Epoch 49, CIFAR-10 Batch 3:  cost: 0.009301828220486641, accuracy: 0.6209999322891235\n",
      "Epoch 49, CIFAR-10 Batch 4:  cost: 0.018536709249019623, accuracy: 0.6293998956680298\n",
      "Epoch 49, CIFAR-10 Batch 5:  cost: 0.039297107607126236, accuracy: 0.6283999085426331\n",
      "Epoch 50, CIFAR-10 Batch 1:  cost: 3.9261918573174626e-05, accuracy: 0.621199905872345\n",
      "Epoch 50, CIFAR-10 Batch 2:  cost: 0.0018018262926489115, accuracy: 0.6271998882293701\n",
      "Epoch 50, CIFAR-10 Batch 3:  cost: 0.00013064692029729486, accuracy: 0.6213999390602112\n",
      "Epoch 50, CIFAR-10 Batch 4:  cost: 0.0022040128242224455, accuracy: 0.6367999315261841\n",
      "Epoch 50, CIFAR-10 Batch 5:  cost: 0.0012439591810107231, accuracy: 0.6197998523712158\n"
     ]
    }
   ],
   "source": [
    "\"\"\"\n",
    "DON'T MODIFY ANYTHING IN THIS CELL\n",
    "\"\"\"\n",
    "save_model_path = './image_classification'\n",
    "\n",
    "print('Training...')\n",
    "with tf.Session() as sess:\n",
    "    # Initializing the variables\n",
    "    sess.run(tf.global_variables_initializer())\n",
    "    \n",
    "    # Training cycle\n",
    "    for epoch in range(epochs):\n",
    "        # Loop over all batches\n",
    "        n_batches = 5\n",
    "        for batch_i in range(1, n_batches + 1):\n",
    "            for batch_features, batch_labels in helper.load_preprocess_training_batch(batch_i, batch_size):\n",
    "                train_neural_network(sess, optimizer, keep_probability, batch_features, batch_labels)\n",
    "            print('Epoch {:>2}, CIFAR-10 Batch {}:  '.format(epoch + 1, batch_i), end='')\n",
    "            print_stats(sess, batch_features, batch_labels, cost, accuracy)\n",
    "            \n",
    "    # Save Model\n",
    "    saver = tf.train.Saver()\n",
    "    save_path = saver.save(sess, save_model_path)"
   ]
  },
  {
   "cell_type": "markdown",
   "metadata": {
    "deletable": true,
    "editable": true
   },
   "source": [
    "# Checkpoint\n",
    "The model has been saved to disk.\n",
    "## Test Model\n",
    "Test your model against the test dataset.  This will be your final accuracy. You should have an accuracy greater than 50%. If you don't, keep tweaking the model architecture and parameters."
   ]
  },
  {
   "cell_type": "code",
   "execution_count": 12,
   "metadata": {
    "collapsed": false,
    "deletable": true,
    "editable": true
   },
   "outputs": [
    {
     "name": "stdout",
     "output_type": "stream",
     "text": [
      "Testing Accuracy: 0.6222310126582279\n",
      "\n"
     ]
    },
    {
     "data": {
      "image/png": "[encoded data removed]",
      "text/plain": [
       "<matplotlib.figure.Figure at 0x7f7caab29f60>"
      ]
     },
     "metadata": {
      "image/png": {
       "height": 319,
       "width": 355
      }
     },
     "output_type": "display_data"
    }
   ],
   "source": [
    "\"\"\"\n",
    "DON'T MODIFY ANYTHING IN THIS CELL\n",
    "\"\"\"\n",
    "%matplotlib inline\n",
    "%config InlineBackend.figure_format = 'retina'\n",
    "\n",
    "import tensorflow as tf\n",
    "import pickle\n",
    "import helper\n",
    "import random\n",
    "\n",
    "# Set batch size if not already set\n",
    "try:\n",
    "    if batch_size:\n",
    "        pass\n",
    "except NameError:\n",
    "    batch_size = 64\n",
    "\n",
    "save_model_path = './image_classification'\n",
    "n_samples = 4\n",
    "top_n_predictions = 3\n",
    "\n",
    "def test_model():\n",
    "    \"\"\"\n",
    "    Test the saved model against the test dataset\n",
    "    \"\"\"\n",
    "\n",
    "    test_features, test_labels = pickle.load(open('preprocess_test.p', mode='rb'))\n",
    "    loaded_graph = tf.Graph()\n",
    "\n",
    "    with tf.Session(graph=loaded_graph) as sess:\n",
    "        # Load model\n",
    "        loader = tf.train.import_meta_graph(save_model_path + '.meta')\n",
    "        loader.restore(sess, save_model_path)\n",
    "\n",
    "        # Get Tensors from loaded model\n",
    "        loaded_x = loaded_graph.get_tensor_by_name('x:0')\n",
    "        loaded_y = loaded_graph.get_tensor_by_name('y:0')\n",
    "        loaded_keep_prob = loaded_graph.get_tensor_by_name('keep_prob:0')\n",
    "        loaded_logits = loaded_graph.get_tensor_by_name('logits:0')\n",
    "        loaded_acc = loaded_graph.get_tensor_by_name('accuracy:0')\n",
    "        \n",
    "        # Get accuracy in batches for memory limitations\n",
    "        test_batch_acc_total = 0\n",
    "        test_batch_count = 0\n",
    "        \n",
    "        for test_feature_batch, test_label_batch in helper.batch_features_labels(test_features, test_labels, batch_size):\n",
    "            test_batch_acc_total += sess.run(\n",
    "                loaded_acc,\n",
    "                feed_dict={loaded_x: test_feature_batch, loaded_y: test_label_batch, loaded_keep_prob: 1.0})\n",
    "            test_batch_count += 1\n",
    "\n",
    "        print('Testing Accuracy: {}\\n'.format(test_batch_acc_total/test_batch_count))\n",
    "\n",
    "        # Print Random Samples\n",
    "        random_test_features, random_test_labels = tuple(zip(*random.sample(list(zip(test_features, test_labels)), n_samples)))\n",
    "        random_test_predictions = sess.run(\n",
    "            tf.nn.top_k(tf.nn.softmax(loaded_logits), top_n_predictions),\n",
    "            feed_dict={loaded_x: random_test_features, loaded_y: random_test_labels, loaded_keep_prob: 1.0})\n",
    "        helper.display_image_predictions(random_test_features, random_test_labels, random_test_predictions)\n",
    "\n",
    "\n",
    "test_model()"
   ]
  },
  {
   "cell_type": "markdown",
   "metadata": {
    "deletable": true,
    "editable": true
   },
   "source": [
    "## Why 50-80% Accuracy?\n",
    "You might be wondering why you can't get an accuracy any higher. First things first, 50% isn't bad for a simple CNN.  Pure guessing would get you 10% accuracy. However, you might notice people are getting scores [well above 80%](http://rodrigob.github.io/are_we_there_yet/build/classification_datasets_results.html#43494641522d3130).  That's because we haven't taught you all there is to know about neural networks. We still need to cover a few more techniques.\n",
    "## Submitting This Project\n",
    "When submitting this project, make sure to run all the cells before saving the notebook.  Save the notebook file as \"dlnd_image_classification.ipynb\" and save it as a HTML file under \"File\" -> \"Download as\".  Include the \"helper.py\" and \"problem_unittests.py\" files in your submission."
   ]
  }
 ],
 "metadata": {
  "kernelspec": {
   "display_name": "Python 3",
   "language": "python",
   "name": "python3"
  },
  "language_info": {
   "codemirror_mode": {
    "name": "ipython",
    "version": 3
   },
   "file_extension": ".py",
   "mimetype": "text/x-python",
   "name": "python",
   "nbconvert_exporter": "python",
   "pygments_lexer": "ipython3",
   "version": "3.5.2"
  },
  "widgets": {
   "state": {},
   "version": "1.1.2"
  }
 },
 "nbformat": 4,
 "nbformat_minor": 1
}
